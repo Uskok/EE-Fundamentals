{
  "cells": [
    {
      "cell_type": "markdown",
      "metadata": {
        "id": "view-in-github",
        "colab_type": "text"
      },
      "source": [
        "<a href=\"https://colab.research.google.com/github/bingsen-wang/EE-Fundamentals/blob/main/CircuitElement_resistance.ipynb\" target=\"_parent\"><img src=\"https://colab.research.google.com/assets/colab-badge.svg\" alt=\"Open In Colab\"/></a>"
      ]
    },
    {
      "cell_type": "markdown",
      "metadata": {
        "id": "jAMKoELNpsK-"
      },
      "source": [
        "<center><h1><b>Circuit Element: Resistance</h1></b>\n",
        "\n",
        "Dr. Bingsen Wang\n",
        "\n",
        "6/15/2023\n",
        "</center>"
      ]
    },
    {
      "cell_type": "markdown",
      "source": [
        "#Ohm's Law"
      ],
      "metadata": {
        "id": "5fZNLJCHrJ73"
      }
    },
    {
      "cell_type": "markdown",
      "source": [
        "The Ohm's Law describes the relationship between the voltage $v_R$ across the resistance and the current $i_R$ through the resistance with $v_R$ and $i_R$ following the **passive sign convention**.\n",
        "$$\\begin{align}\n",
        "v_R &= i_R R\\tag{1}\\\\\n",
        "i_R &= \\frac{v_R}{R}\\tag{2}\n",
        "\\end{align} $$"
      ],
      "metadata": {
        "id": "jqIFv6LJrOz5"
      }
    },
    {
      "cell_type": "markdown",
      "source": [
        "#Instantaneous Power"
      ],
      "metadata": {
        "id": "UBYH0kXSrz9J"
      }
    },
    {
      "cell_type": "markdown",
      "source": [
        "The instantaneous power $p(t)$ absorbed by the resistance is\n",
        "$$p(t)=v_Ri_R \\tag{3}$$\n",
        "\n",
        "Substituting (1) in (3) yields\n",
        "$$p(t) = i^2_R R\\tag{4}$$\n",
        "\n",
        "Substituting (2) in (3) leads to\n",
        "$$p(t) = \\frac{v_R^2}{R}\\tag{5}$$\n",
        "\n",
        "Equations (3)-(5) are the three methods to calculate the power delivered to a resistance depending the convenience of application."
      ],
      "metadata": {
        "id": "hjvJ4Jx4r4Vh"
      }
    },
    {
      "cell_type": "markdown",
      "metadata": {
        "id": "Hv0YxDrWU4h8"
      },
      "source": [
        "#Python Code\n",
        "The Python code illustrates the resistance using ac waveforms."
      ]
    },
    {
      "cell_type": "code",
      "execution_count": null,
      "metadata": {
        "id": "XeGsHYTt8IXU"
      },
      "outputs": [],
      "source": [
        "import matplotlib\n",
        "from os import linesep\n",
        "import numpy as np\n",
        "from numpy import linspace,cos,pi\n",
        "import matplotlib.pyplot as plt\n",
        "from matplotlib import animation,rc\n",
        "rc('animation', html='jshtml')\n",
        "plt.rcParams.update({\"font.family\" : \"sans serif\",\"mathtext.fontset\" : \"cm\"})\n",
        "\n",
        "#parameters\n",
        "Nf = 300\n",
        "t=linspace(0,1,Nf)\n",
        "vR = cos(2*pi*t)\n",
        "R=1.5\n",
        "iR=vR/R\n",
        "pt=vR*iR\n",
        "fig = plt.figure(figsize=(9,16))\n",
        "fig.tight_layout()\n",
        "ax_frame = [[[0,.6, 1, .3],[-.02,1.1],[-1.1,1.1]], #amplitude\n",
        "            [[0,.3, 1, .3],[-.02,1.1],[-1.1,1.1]], #phase\n",
        "            [[0,0, 1, .3],[-.02,1.1],[-1.1,1.1]], #frequency\n",
        "            ]# [pos-boundary, xlim, ylim] for subplots\n",
        "ax_lbl=[['$v_R = i_R R$', '$t$'],\n",
        "        [r'$i_R = \\frac{v_R}{R}$', '$t$'],\n",
        "        [r'$p(t) = v_Ri_R = i_R^2R=\\frac{v_R^2}{R}$', '$t$'],\n",
        "        ] #variables for yx axes of each subplot\n",
        "clst=['r','b','g'] #colors of lines\n",
        "ax_lst=[] #axis list or the list of subplots\n",
        "lines = [] #array containing all the line segments\n",
        "for k in range(len(ax_frame)):\n",
        "  xn,xm,yn,ym = ax_frame[k][1]+ax_frame[k][2]\n",
        "  ax=fig.add_axes(ax_frame[k][0],xlim=[xn,xm], ylim=[yn,ym],fc='none') #no fc\n",
        "  ax.axis('off') #turn off axis frames\n",
        "  ax_lst.append(ax)\n",
        "  ax.annotate(\"\", (xm, 0), (xn, 0),arrowprops={'arrowstyle':\"->\"}) #x-axis\n",
        "  ax.annotate(\"\", (0,ym), (0,yn),arrowprops={'arrowstyle':\"->\"}) #y-axis\n",
        "  lines.append(ax.plot([], [], color=clst[k], lw=3)[0]) #lines to plot\n",
        "  ax.text(xm-.02,0,ax_lbl[k][-1],size=24,va='top',ha='right') #x-axis label\n",
        "  ax.text(0.01,ym,ax_lbl[k][0],size=24,va='center',color=clst[k]) #y label\n",
        "ax_lst[0].text(0.5,ax_frame[0][2][1]+0.5,'Circuit Element: Resistance',va='top',ha='center',size=26)\n",
        "# animation function. This is called sequentially\n",
        "def animate(i):\n",
        "  lines[0].set_data(t[0:i],vR[0:i])\n",
        "  lines[1].set_data(t[0:i],iR[0:i])\n",
        "  lines[2].set_data(t[0:i],pt[0:i])\n",
        "  return\n",
        "\n",
        "anim = animation.FuncAnimation(fig, animate, frames=Nf, interval=50)\n",
        "# anim #uncomment to generate animation in the output area\n",
        "# to save the animation, uncomment the following three lines\n",
        "fn = r\"circuitElement_resistance.mp4\"\n",
        "writervideo = animation.FFMpegWriter(fps=60)\n",
        "anim.save(fn, writer=writervideo,dpi = 120)\n"
      ]
    }
  ],
  "metadata": {
    "colab": {
      "provenance": [],
      "authorship_tag": "ABX9TyO5mn4e0d87B9iH8qOMVzl9",
      "include_colab_link": true
    },
    "kernelspec": {
      "display_name": "Python 3",
      "name": "python3"
    }
  },
  "nbformat": 4,
  "nbformat_minor": 0
}