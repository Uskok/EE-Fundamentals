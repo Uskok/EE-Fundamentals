{
  "cells": [
    {
      "cell_type": "markdown",
      "metadata": {
        "id": "view-in-github",
        "colab_type": "text"
      },
      "source": [
        "<a href=\"https://colab.research.google.com/github/bingsen-wang/EE-Fundamentals/blob/main/EulersIdentity.ipynb\" target=\"_parent\"><img src=\"https://colab.research.google.com/assets/colab-badge.svg\" alt=\"Open In Colab\"/></a>"
      ]
    },
    {
      "cell_type": "markdown",
      "metadata": {
        "id": "jAMKoELNpsK-"
      },
      "source": [
        "<center><h1><b>Euler's Identity</h1></b>\n",
        "\n",
        "Dr. Bingsen Wang\n",
        "\n",
        "6/14/2023\n",
        "</center>"
      ]
    },
    {
      "cell_type": "markdown",
      "source": [
        "#Euler's Identity"
      ],
      "metadata": {
        "id": "5fZNLJCHrJ73"
      }
    },
    {
      "cell_type": "markdown",
      "source": [
        "The Euler's identity is described by\n",
        "$$e^{j\\theta} = \\cos\\theta + j\\sin\\theta \\tag{1}$$"
      ],
      "metadata": {
        "id": "jqIFv6LJrOz5"
      }
    },
    {
      "cell_type": "markdown",
      "metadata": {
        "id": "Hv0YxDrWU4h8"
      },
      "source": [
        "#Python Code\n",
        "The Python code illustrates the rms value of ac waveform."
      ]
    },
    {
      "cell_type": "code",
      "execution_count": null,
      "metadata": {
        "id": "XeGsHYTt8IXU"
      },
      "outputs": [],
      "source": [
        "import matplotlib\n",
        "from os import linesep\n",
        "import numpy as np\n",
        "from numpy import linspace,cos,sin,pi,exp\n",
        "import matplotlib.pyplot as plt\n",
        "import matplotlib.patches as mp\n",
        "from matplotlib import animation,rc\n",
        "rc('animation', html='jshtml')\n",
        "plt.rcParams.update({\"font.family\" : \"serif\",\"mathtext.fontset\" : \"cm\"})\n",
        "\n",
        "#parameters\n",
        "Nf = 300\n",
        "theta=linspace(0,2*pi,Nf)\n",
        "z = 1.5*exp(1j*theta)\n",
        "\n",
        "fig = plt.figure(figsize=(9,9))\n",
        "fig.tight_layout()\n",
        "ax=fig.add_axes((.1,.1,.8,.8),xlim=[-2.1,2.1], ylim=[-2.1,2.1],fc='none') #no fc\n",
        "ax.axis('off') #turn off axis frames\n",
        "ax.annotate(\"\", (2.1, 0), (-2.1, 0),arrowprops={'arrowstyle':\"->\"}) #x-axis\n",
        "ax.annotate(\"\", (0,2.1), (0,-2.1),arrowprops={'arrowstyle':\"->\"}) #y-axis\n",
        "ax.text(2.1,-.03,'Re',size=24,va='top',ha='center') #x-axis label\n",
        "ax.text(0.01,2.1,'Im',size=24,va='top') #y label\n",
        "tcos = ax.text(z[0].real,0,r'$\\cos\\theta$', size = 20,va='top',ha='center',color='r')\n",
        "tsin = ax.text(0,z[0].imag,r'$\\sin\\theta$', size = 20,va='center',ha='right',color='b')\n",
        "tclx = ax.text(z[0].real,z[0].imag,r'$e^{j\\theta} = \\cos\\theta+j\\sin\\theta$', size = 24,color='k')\n",
        "ttheta = ax.text(0.5*cos(theta[0]*.5),0.5*sin(theta[0]*.5),r'$\\theta$', size = 20)\n",
        "\n",
        "lines = [] #array containing all the line segments\n",
        "lines.append(ax.plot([], [], '-^',markersize=10, lw=4, color='orange')[0]) #lines to plot\n",
        "lines.append(ax.plot([], [], '--', lw=2, color='r')[0]) #real\n",
        "lines.append(ax.plot([], [], '--', lw=2, color='b')[0]) #imag\n",
        "\n",
        "\n",
        "# animation function. This is called sequentially\n",
        "def animate(i):\n",
        "  lines[0].set_data([0,z[i].real],[0,z[i].imag])\n",
        "  lines[1].set_data([z[i].real,z[i].real],[0,z[i].imag])\n",
        "  lines[2].set_data([0,z[i].real],[z[i].imag,z[i].imag])\n",
        "  tcos.set_position((z[i].real,0))\n",
        "  tsin.set_position((0,z[i].imag))\n",
        "  tclx.set_position((z[i].real,z[i].imag))\n",
        "  if theta[i]>pi/2 and theta[i]<3*pi/2:\n",
        "    tsin.set_ha('left')\n",
        "    tclx.set_ha('right')\n",
        "  else:\n",
        "    tsin.set_ha('right')\n",
        "    tclx.set_ha('left')\n",
        "  if theta[i]<pi:\n",
        "    tcos.set_va('top')\n",
        "  else:\n",
        "    tcos.set_va('bottom')\n",
        "  ttheta.set_position((0.5*cos(theta[i]/2),0.5*sin(theta[i]/2)))\n",
        "  ax.add_patch(mp.Arc((0,0),1,1,theta1=0,theta2=theta[i]/pi*180))\n",
        "  return\n",
        "ax.plot(z.real,z.imag,lw=1,ls='--',color='g')\n",
        "anim = animation.FuncAnimation(fig, animate, frames=Nf, interval=50)\n",
        "# anim #uncomment to generate animation in the output area\n",
        "# to save the animation, uncomment the following three lines\n",
        "fn = r\"EulerIdentity.mp4\"\n",
        "writervideo = animation.FFMpegWriter(fps=40)\n",
        "anim.save(fn, writer=writervideo,dpi = 120)\n",
        "\n",
        "#debug\n"
      ]
    }
  ],
  "metadata": {
    "colab": {
      "provenance": [],
      "authorship_tag": "ABX9TyO5udPn6DtqqrK1J4CDNZKI",
      "include_colab_link": true
    },
    "kernelspec": {
      "display_name": "Python 3",
      "name": "python3"
    }
  },
  "nbformat": 4,
  "nbformat_minor": 0
}