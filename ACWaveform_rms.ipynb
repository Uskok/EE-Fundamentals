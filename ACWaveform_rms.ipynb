{
  "cells": [
    {
      "cell_type": "markdown",
      "metadata": {
        "id": "view-in-github",
        "colab_type": "text"
      },
      "source": [
        "<a href=\"https://colab.research.google.com/github/bingsen-wang/EE-Fundamentals/blob/main/ACWaveform_rms.ipynb\" target=\"_parent\"><img src=\"https://colab.research.google.com/assets/colab-badge.svg\" alt=\"Open In Colab\"/></a>"
      ]
    },
    {
      "cell_type": "markdown",
      "metadata": {
        "id": "jAMKoELNpsK-"
      },
      "source": [
        "<center><h1><b>AC Waveform: Root Mean Square (RMS)</h1></b>\n",
        "\n",
        "Dr. Bingsen Wang\n",
        "\n",
        "6/14/2023\n",
        "</center>"
      ]
    },
    {
      "cell_type": "markdown",
      "source": [
        "#Definition"
      ],
      "metadata": {
        "id": "5fZNLJCHrJ73"
      }
    },
    {
      "cell_type": "markdown",
      "source": [
        "For any periodic waveform y(t) with period $T$, it is root-mean-square (RMS) value is defined by\n",
        "$$Y_{RMS} = \\sqrt{{1\\over T}\\int_0^Ty^2(t)dt} \\tag{1}$$"
      ],
      "metadata": {
        "id": "jqIFv6LJrOz5"
      }
    },
    {
      "cell_type": "markdown",
      "source": [
        "#Special Case for Sinusoidal Waveform"
      ],
      "metadata": {
        "id": "UBYH0kXSrz9J"
      }
    },
    {
      "cell_type": "markdown",
      "source": [
        "Let $y(t)$ be sinsusoidal waveform as\n",
        "$$y(t)=A\\cos(\\omega t+\\theta) \\tag{2}$$\n",
        "Then,\n",
        "$$y^2(t) = A^2\\frac{1+\\cos(2\\omega t+2\\theta)}{2}\\tag{3}$$\n",
        "\n",
        "Since the average of the $2\\omega$ term over a period amounts to zer, substituting (3) in (1) yields\n",
        "$$Y_{RMS} = \\sqrt{{1\\over T}{A^2\\over 2}T}= \\frac{|A|}{\\sqrt2}\\tag{4}$$\n",
        "\n",
        "It is worth mentioning that the factor $1\\over\\sqrt2$ is only valid for sinusoidal waveform."
      ],
      "metadata": {
        "id": "hjvJ4Jx4r4Vh"
      }
    },
    {
      "cell_type": "markdown",
      "metadata": {
        "id": "Hv0YxDrWU4h8"
      },
      "source": [
        "#Python Code\n",
        "The Python code illustrates the rms value of ac waveform."
      ]
    },
    {
      "cell_type": "code",
      "execution_count": null,
      "metadata": {
        "id": "XeGsHYTt8IXU"
      },
      "outputs": [],
      "source": [
        "import matplotlib\n",
        "from os import linesep\n",
        "import numpy as np\n",
        "from numpy import linspace,cos,pi\n",
        "import matplotlib.pyplot as plt\n",
        "from matplotlib import animation,rc\n",
        "rc('animation', html='jshtml')\n",
        "plt.rcParams.update({\"font.family\" : \"serif\",\"mathtext.fontset\" : \"cm\"})\n",
        "\n",
        "#parameters\n",
        "Nf = 300\n",
        "t=linspace(0,1,Nf)\n",
        "yt = cos(2*pi*t)\n",
        "yt2 =yt**2\n",
        "yrms = np.sqrt(np.average(yt2))+t*0\n",
        "\n",
        "fig = plt.figure(figsize=(9,16))\n",
        "fig.tight_layout()\n",
        "ax_frame = [[[0,.6, 1, .3],[-.02,1.1],[-1.1,1.1]], #amplitude\n",
        "            [[0,.3, 1, .3],[-.02,1.1],[-1.1,1.1]], #phase\n",
        "            [[0,0, 1, .3],[-.02,1.1],[-1.1,1.1]], #frequency\n",
        "            ]# [pos-boundary, xlim, ylim] for subplots\n",
        "ax_lbl=[['$y(t)$', '$t$'],\n",
        "        [r'$y^2(t)$', '$t$'],\n",
        "        [r'$\\sqrt{\\frac{1}{T}\\int_0^T y^2(t)dt}$', '$t$'],\n",
        "        ] #variables for yx axes of each subplot\n",
        "clst=['r','b','g'] #colors of lines\n",
        "ax_lst=[] #axis list or the list of subplots\n",
        "lines = [] #array containing all the line segments\n",
        "for k in range(len(ax_frame)):\n",
        "  xn,xm,yn,ym = ax_frame[k][1]+ax_frame[k][2]\n",
        "  ax=fig.add_axes(ax_frame[k][0],xlim=[xn,xm], ylim=[yn,ym],fc='none') #no fc\n",
        "  ax.axis('off') #turn off axis frames\n",
        "  ax_lst.append(ax)\n",
        "  ax.annotate(\"\", (xm, 0), (xn, 0),arrowprops={'arrowstyle':\"->\"}) #x-axis\n",
        "  ax.annotate(\"\", (0,ym), (0,yn),arrowprops={'arrowstyle':\"->\"}) #y-axis\n",
        "  lines.append(ax.plot([], [], color=clst[k], lw=3)[0]) #lines to plot\n",
        "  ax.text(xm-.02,0,ax_lbl[k][-1],size=24,va='top',ha='right') #x-axis label\n",
        "  ax.text(0.01,ym,ax_lbl[k][0],size=24,va='center',color=clst[k]) #y label\n",
        "ax_lst[0].text(0.5,ax_frame[0][2][1]+0.5,'Root Mean Square',va='top',ha='center',size=26)\n",
        "# animation function. This is called sequentially\n",
        "def animate(i):\n",
        "  lines[0].set_data(t[0:i],yt[0:i])\n",
        "  lines[1].set_data(t[0:i],yt2[0:i])\n",
        "  lines[2].set_data(t[0:i],yrms[0:i])\n",
        "  return\n",
        "\n",
        "anim = animation.FuncAnimation(fig, animate, frames=Nf, interval=50)\n",
        "# anim #uncomment to generate animation in the output area\n",
        "# to save the animation, uncomment the following three lines\n",
        "fn = r\"ac_rms.mp4\"\n",
        "writervideo = animation.FFMpegWriter(fps=60)\n",
        "anim.save(fn, writer=writervideo,dpi = 120)\n"
      ]
    }
  ],
  "metadata": {
    "colab": {
      "provenance": [],
      "authorship_tag": "ABX9TyPJIEL/I4t4u6RcRMT2Gkie",
      "include_colab_link": true
    },
    "kernelspec": {
      "display_name": "Python 3",
      "name": "python3"
    }
  },
  "nbformat": 4,
  "nbformat_minor": 0
}