{
  "nbformat": 4,
  "nbformat_minor": 0,
  "metadata": {
    "colab": {
      "provenance": [],
      "include_colab_link": true
    },
    "kernelspec": {
      "name": "python3",
      "display_name": "Python 3"
    }
  },
  "cells": [
    {
      "cell_type": "markdown",
      "metadata": {
        "id": "view-in-github",
        "colab_type": "text"
      },
      "source": [
        "<a href=\"https://colab.research.google.com/github/bingsen-wang/EE-Fundamentals/blob/main/BodePlot_LeadOrLagCompensator.ipynb\" target=\"_parent\"><img src=\"https://colab.research.google.com/assets/colab-badge.svg\" alt=\"Open In Colab\"/></a>"
      ]
    },
    {
      "cell_type": "markdown",
      "metadata": {
        "id": "jAMKoELNpsK-"
      },
      "source": [
        "<center><h1><b>Lead or Lag Compensator</h1></b>\n",
        "\n",
        "Dr. Bingsen Wang\n",
        "\n",
        "7/4/2025\n",
        "</center>"
      ]
    },
    {
      "cell_type": "markdown",
      "metadata": {
        "id": "Hv0YxDrWU4h8"
      },
      "source": [
        "#Python Code"
      ]
    },
    {
      "cell_type": "code",
      "execution_count": null,
      "metadata": {
        "id": "XeGsHYTt8IXU"
      },
      "outputs": [],
      "source": [
        "from matplotlib import pyplot,animation,cm\n",
        "import numpy as np\n",
        "pyplot.rcParams.update({\"font.family\":\"sans-serif\", \"mathtext.fontset\":\"cm\"})\n",
        "\n",
        "def T_lead(s,wz,wp):\n",
        "  return (1+s/wz)/(1+s/wp)\n",
        "def dB(x):\n",
        "  return 20*np.log10(np.abs(x))\n",
        "def ph(x):\n",
        "  return np.angle(x,deg=True)\n",
        "\n",
        "Nf=480\n",
        "wz=np.logspace(-1,1,Nf); wp=np.logspace(1,-1,Nf)\n",
        "omega=np.logspace(-2.5,2.5,501)\n",
        "cl = list(cm.tab10.colors) #colors of lines\n",
        "fig = pyplot.figure(figsize=([9,9]))\n",
        "ax1 = fig.add_axes([.1,.5,.875,.4],xlim=[min(omega),max(omega)],ylim=[-43,43],fc='none',xscale='log');#ax1.axis('off')\n",
        "ax2 = fig.add_axes([.1,.075,.875,.4],xlim=[min(omega),max(omega)],ylim=[-95,95],fc='none',xscale='log');#ax2.axis('off')\n",
        "ax = fig.add_axes([0,0,1,1],xlim=[-1.2,1.2],ylim=[-1.2,1.25],fc='none');ax.axis('off')\n",
        "ax1.set_yticks(np.linspace(-40,40,9))\n",
        "ax1.set_xticklabels('');\n",
        "ax1.grid(visible=True,which='major',axis='x',lw=.5,color='.5')\n",
        "ax1.grid(visible=True,which='major',axis='y',lw=.5,color='.5')\n",
        "ax1.grid(visible=True,which='minor',axis='x',lw=.5,color='.5',alpha=.5)\n",
        "ax1.set_ylabel(r'$\\text{Gain (dB)}$',size=20,loc='center',labelpad=0)\n",
        "\n",
        "ax2.set_yticks(np.linspace(-90,90,13))\n",
        "ax2.grid(visible=True,which='major',axis='x',lw=.5,color='.5')\n",
        "ax2.grid(visible=True,which='major',axis='y',lw=.5,color='.5')\n",
        "ax2.grid(visible=True,which='minor',axis='x',lw=.5,color='.5',alpha=.5)\n",
        "ax2.set_xlabel(r'$\\omega\\ \\text{(rad/s)}$  ',size=25,loc='right',labelpad=-10)\n",
        "ax2.set_ylabel(r'$\\text{Phase (deg)}$',size=20,loc='center',labelpad=0)\n",
        "txts=[ax.text(0,1.1,\"Bode Plots of Lead Compensator\",size=32,ha='center')]\n",
        "\n",
        "ax.text(-.85,.9,r'$T(s) = \\frac{1+\\frac{s}{\\omega_z}}{1+\\frac{s}{\\omega_p}}$',\n",
        "        size=28,ha='left',va='top',multialignment='left',\n",
        "        bbox=dict(boxstyle='roundtooth',pad=.8,facecolor='w',edgecolor=cl[2],lw=5))\n",
        "txts+=[ax2.text(0,0,'',size=20,c='k',rotation=90,va='center',ha=['right','left'][k]) for k in range(2)] #omega_z, omega_p\n",
        "\n",
        "lines=[ax1.plot([],[],lw=4-2*k,c=cl[k],ls=['-','--'][k])[0] for k in range(2)]\n",
        "lines+=[ax1.plot([],[],lw=1.5,c='k',ls='--')[0] for _ in range(2)]\n",
        "lines+=[ax2.plot([],[],lw=4-2*k,c=cl[k],ls=['-','--'][k])[0] for k in range(2)]\n",
        "lines+=[ax2.plot([],[],lw=1.5,c='k',ls='--')[0] for _ in range(2)]\n",
        "def animate(i):\n",
        "  if i%50==0: print(i)\n",
        "  if i==Nf//2:\n",
        "    txts[0].set_text('Bode Plots of Lag Compensator')\n",
        "    txts[1].set_ha('left')\n",
        "    txts[2].set_ha('right')\n",
        "  TdB=dB(T_lead(1j*omega,wz[i],wp[i]))\n",
        "  TdB_appr=np.maximum(0*omega,dB(1j*omega/wz[i]))-np.maximum(0*omega,dB(1j*omega/wp[i]))\n",
        "  TdB_appr_z=np.maximum(0,dB(1j))-np.maximum(0,dB(1j*wz[i]/wp[i]))\n",
        "  TdB_appr_p=np.maximum(0,dB(1j*wp[i]/wz[i]))-np.maximum(0,dB(1j))\n",
        "  Phase=ph(T_lead(1j*omega,wz[i],wp[i]))\n",
        "  [lines[k].set_data(omega,[TdB,TdB_appr][k]) for k in range(2)]\n",
        "  [lines[k+2].set_data([[wz[i],wp[i]][k]]*2,[-43,[TdB_appr_z,TdB_appr_p][k]]) for k in range(2)]\n",
        "\n",
        "  lines[4].set_data(omega,Phase)\n",
        "  [lines[k+6].set_data([[wz[i],wp[i]][k]]*2,[-95,95]) for k in range(2)]\n",
        "  [txts[k+1].set_position([[wz[i],wp[i]][k],-45+(i//(Nf//2))*90]) for k in range(2)]\n",
        "\n",
        "  [txts[k+1].set_text([rf'$\\omega_z={wz[i]:.2f}$',rf'$\\omega_p={wp[i]:.2f}$'][k]) for k in range(2)]\n",
        "\n",
        "  return\n",
        "ax.text(np.average(ax.get_xlim()),ax.get_ylim()[0]*.99+ax.get_ylim()[1]*.01,r'@eeanimation',size=12,c='.2',alpha=.3,ha='center',va='bottom')\n",
        "anim = animation.FuncAnimation(fig, animate, frames=Nf, interval=20)\n",
        "anim.save(\"BodePlot_leadlag.mp4\",writer=animation.FFMpegWriter(fps=60),dpi=200)"
      ]
    },
    {
      "cell_type": "code",
      "source": [],
      "metadata": {
        "id": "BMa1p4fc9-MD"
      },
      "execution_count": null,
      "outputs": []
    }
  ]
}