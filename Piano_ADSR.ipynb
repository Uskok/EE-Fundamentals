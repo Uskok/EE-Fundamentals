{
  "nbformat": 4,
  "nbformat_minor": 0,
  "metadata": {
    "colab": {
      "provenance": [],
      "include_colab_link": true
    },
    "kernelspec": {
      "name": "python3",
      "display_name": "Python 3"
    }
  },
  "cells": [
    {
      "cell_type": "markdown",
      "metadata": {
        "id": "view-in-github",
        "colab_type": "text"
      },
      "source": [
        "<a href=\"https://colab.research.google.com/github/bingsen-wang/EE-Fundamentals/blob/main/Piano_ADSR.ipynb\" target=\"_parent\"><img src=\"https://colab.research.google.com/assets/colab-badge.svg\" alt=\"Open In Colab\"/></a>"
      ]
    },
    {
      "cell_type": "markdown",
      "metadata": {
        "id": "jAMKoELNpsK-"
      },
      "source": [
        "<center><h1><b>Fundamental Frequencies of Piano with ADSR Envelope</h1></b>\n",
        "\n",
        "Dr. Bingsen Wang\n",
        "\n",
        "12/6/2023\n",
        "</center>"
      ]
    },
    {
      "cell_type": "markdown",
      "metadata": {
        "id": "Hv0YxDrWU4h8"
      },
      "source": [
        "#Python Code\n",
        "The Python code generates the sound of varies waveforms.  "
      ]
    },
    {
      "cell_type": "code",
      "execution_count": 42,
      "metadata": {
        "id": "XeGsHYTt8IXU",
        "colab": {
          "base_uri": "https://localhost:8080/",
          "height": 1000
        },
        "outputId": "7dff2215-eef6-4a3f-8999-99d0eb7c6a2c"
      },
      "outputs": [
        {
          "output_type": "stream",
          "name": "stdout",
          "text": [
            "Moviepy - Building video PianoADSRsound.mp4.\n",
            "MoviePy - Writing audio in PianoADSRsoundTEMP_MPY_wvf_snd.mp3\n"
          ]
        },
        {
          "output_type": "stream",
          "name": "stderr",
          "text": []
        },
        {
          "output_type": "stream",
          "name": "stdout",
          "text": [
            "MoviePy - Done.\n",
            "Moviepy - Writing video PianoADSRsound.mp4\n",
            "\n"
          ]
        },
        {
          "output_type": "stream",
          "name": "stderr",
          "text": []
        },
        {
          "output_type": "stream",
          "name": "stdout",
          "text": [
            "Moviepy - Done !\n",
            "Moviepy - video ready PianoADSRsound.mp4\n"
          ]
        },
        {
          "output_type": "display_data",
          "data": {
            "text/plain": [
              "<Figure size 900x900 with 2 Axes>"
            ],
            "image/png": "[encoded data removed]"
          },
          "metadata": {}
        }
      ],
      "source": [
        "from logging import WARNING\n",
        "from os import linesep\n",
        "import matplotlib\n",
        "from scipy.io.wavfile import write\n",
        "from moviepy.editor import *\n",
        "from numpy import linspace,cos,pi,sin,arccos,fft,angle,abs,clip,int16,array,heaviside\n",
        "import matplotlib.pyplot as plt\n",
        "from matplotlib.patches import Rectangle\n",
        "from matplotlib.collections import PatchCollection\n",
        "from matplotlib import animation,rc\n",
        "rc('animation', html='jshtml')\n",
        "plt.rcParams.update({\"font.family\" : \"serif\",\"mathtext.fontset\" : \"cm\"})\n",
        "\n",
        "def adsr(t,*args):\n",
        "  T_total,a1,a2,a3,d1,d2,d3=args\n",
        "  t1 = d1*T_total\n",
        "  t2 = t1+d2*T_total\n",
        "  t3 = t2+d3*T_total\n",
        "  t4 = T_total\n",
        "  at = a1/t1*t*(heaviside(t,0)-heaviside(t-t1,0)) #attack\n",
        "  if t1==t2:\n",
        "    dt=0\n",
        "  else:\n",
        "    dt = ((a2-a1)/(t2-t1)*(t-t1)+a1)*(heaviside(t-t1,0)-heaviside(t-t2,0)) #decay\n",
        "  if t2==t3:\n",
        "    st=0\n",
        "  else:\n",
        "    st = ((a3-a2)/(t3-t2)*(t-t2)+a2)*(heaviside(t-t2,0)-heaviside(t-t3,0)) #sustain\n",
        "  if t3==t4:\n",
        "    rt=0\n",
        "  else:\n",
        "    rt = (-a3/(t4-t3)*(t-t3)+a3)*(heaviside(t-t3,0)-heaviside(t-t4,0)) #release\n",
        "  return at+dt+st+rt\n",
        "\n",
        "def x(f,t,*args):\n",
        "  return adsr(t,*args)*sin(2*pi*f*t)\n",
        "\n",
        "def layout_88keys(ax):\n",
        "  kww = 1/52 #key width for white keys\n",
        "  kwb = 1/52*0.6 #key width for white keys\n",
        "  whiteKeys = []\n",
        "  for i in range(52): #52 white keys\n",
        "      whiteKeys.append(Rectangle((i*kww, 0.2), kww ,0.8 ))\n",
        "  blackKeys = []\n",
        "  for i in range(36): #36 black keys\n",
        "    ii=i%5\n",
        "    k=int(i/5)\n",
        "    if ii<1:\n",
        "      blackKeys.append(Rectangle(((ii+1+k*7)*kww - .5*kwb, 0.6), kwb ,0.4 ))\n",
        "    elif ii<3:\n",
        "      blackKeys.append(Rectangle(((ii+2+k*7)*kww - .5*kwb, 0.6), kwb ,0.4 ))\n",
        "    else:\n",
        "      blackKeys.append(Rectangle(((ii+3+k*7)*kww - .5*kwb, 0.6), kwb ,0.4 ))\n",
        "  pc1 = PatchCollection(whiteKeys, facecolor='w',edgecolor='k',lw=0.8)\n",
        "  pc2 = PatchCollection(blackKeys, facecolor='k',edgecolor='k',lw=0)\n",
        "  ax.add_collection(pc1)\n",
        "  ax.add_collection(pc2)\n",
        "  return\n",
        "\n",
        "# parameters\n",
        "Nf = 100 # number of frames per key\n",
        "sr = 44100 #sampling rate\n",
        "tpf = 2 # time per key\n",
        "kw = 1/52 #key width\n",
        "keys_lst,keys_freq =([], [])\n",
        "for i in range(9):\n",
        "  if i==0:\n",
        "    keys_lst.extend(['A0','A♯0/B♭0','B0'])\n",
        "  elif i==8:\n",
        "    keys_lst.extend(['C8'])\n",
        "  else:\n",
        "    keys_lst.extend(['C'+str(i), 'C♯'+str(i)+'/D♭'+str(i),\n",
        "                     'D'+str(i), 'D♯'+str(i)+'/E♭'+str(i),\n",
        "                     'E'+str(i),\n",
        "                     'F'+str(i), 'F♯'+str(i)+'/G♭'+str(i),\n",
        "                     'G'+str(i), 'G♯'+str(i)+'/A♭'+str(i),\n",
        "                     'A'+str(i),'A♯'+str(i)+'/B♭'+str(i),\n",
        "                     'B'+str(i)])\n",
        "for i in range(len(keys_lst)):\n",
        "  keys_freq.append(27.5*(2**(i/12)))\n",
        "key_names = ['C4','C♯4/D♭4','D4','E4','F4','G4','A4','B4'] #keys to play\n",
        "\n",
        "\n",
        "#time and frequency series\n",
        "t = linspace(0,1,1024*124) #time series for plotting\n",
        "#ADSR envelope\n",
        "aa = [tpf,1,1,0.2,.02,0,.95]\n",
        "adsr_piano = adsr(t,*aa)\n",
        "tsnd=linspace(0,tpf,int(tpf*sr)) #time series for sampling\n",
        "\n",
        "xtsnd_lst=[]\n",
        "soundTrack=[]\n",
        "for i in range(len(key_names)):\n",
        "  ki=keys_lst.index(key_names[i]) #key index\n",
        "  xtsnd = x(keys_freq[ki],tsnd,*aa)\n",
        "  xtsnd_lst.append(xtsnd)\n",
        "  soundTrack.extend(int16(xtsnd*32767))\n",
        "\n",
        "fig = plt.figure(figsize=(9,9))\n",
        "fig.tight_layout()\n",
        "ax_frame = [[[0, 0.25, 1, .7], [-.02,1.1], [-1.1,1.1]], #sine waveform\n",
        "            [[0, 0,   1, .2],  [-.02,1.1], [-.0,1]], # keyboard layout\n",
        "            ]# [pos-boundary, xlim, ylim] for subplots\n",
        "ax_lbl=[['$f(t)$', '$t$'],\n",
        "        ['$F_{fft}$', '$t$'],\n",
        "        ] #variables for yx axes of each subplot\n",
        "title_lst = ['','']\n",
        "clst=['b','r'] #colors of lines\n",
        "tx_titles = []\n",
        "ax_lst=[] #axis list or the list of subplots\n",
        "ylabel_lst=[] #y-labels to update\n",
        "for k in range(len(ax_frame)):\n",
        "  xn,xm,yn,ym = ax_frame[k][1]+ax_frame[k][2]\n",
        "  ax=fig.add_axes(ax_frame[k][0],xlim=[xn,xm], ylim=[yn,ym],fc='none') #no fc\n",
        "  ax.axis('off') #turn off axis frames\n",
        "  ax_lst.append(ax)\n",
        "  if k==0:\n",
        "    ax.annotate(\"\", (xm, 0), (xn, 0),arrowprops={'arrowstyle':\"->\"}) #x-axis\n",
        "    ax.annotate(\"\", (0,ym), (0,yn),arrowprops={'arrowstyle':\"->\"}) #y-axis\n",
        "    line_wave = ax.plot([], [],color=clst[k], lw=0.5)[0]\n",
        "    ax.text(xm-.02,0,ax_lbl[k][-1],size=24,va='top',ha='right') #x-axis label\n",
        "    ylabel_lst.append(ax.text(0.01,ym,ax_lbl[k][0],size=24,va='bottom',color=clst[k])) #y label\n",
        "    tx_titles.append(ax.text(0.5,ax_frame[k][2][1]+0.1,title_lst[k],va='top',ha='center',size=20))\n",
        "key_active = ax_lst[1].arrow(0.5*kw,0,0,0.2,)\n",
        "# animation function. This is called sequentially\n",
        "def animate(i):\n",
        "  # print(i)\n",
        "  m=i%Nf\n",
        "  n=int(i/Nf)\n",
        "  ki= keys_lst.index(key_names[n]) #key index\n",
        "  global key_active\n",
        "  ii=ki%12\n",
        "  k=int(ki/12)\n",
        "  key_active.remove()\n",
        "  if ii<3:\n",
        "    key_active = ax_lst[1].arrow(0.5*(1+ii+14*k)*kw,0,0,0.2,width=0.25*kw,color='r',length_includes_head=True)\n",
        "  elif ii<8:\n",
        "    key_active = ax_lst[1].arrow(0.5*(2+ii+14*k)*kw,0,0,0.2,width=0.25*kw,color='r',length_includes_head=True)\n",
        "  else:\n",
        "    key_active = ax_lst[1].arrow(0.5*(3+ii+14*k)*kw,0,0,0.2,width=0.25*kw,color='r',length_includes_head=True)\n",
        "  line_wave.set_data(tsnd[:m*int(len(tsnd)/Nf)]/tpf,xtsnd_lst[n][:m*int(len(tsnd)/Nf)])\n",
        "  tx_titles[0].set_text('Key '+keys_lst[ki]+', $'+str(round(keys_freq[ki],3))+'$ Hz')\n",
        "  return\n",
        "layout_88keys(ax_lst[1])\n",
        "\n",
        "\n",
        "anim = animation.FuncAnimation(fig, animate, frames=len(key_names)*Nf, interval=500)\n",
        "# anim #uncomment to generate animation in the output area\n",
        "# to save the animation, uncomment the following three lines\n",
        "fn = \"PianoADSR\"\n",
        "writervideo = animation.FFMpegWriter(fps=Nf/tpf)\n",
        "anim.save(fn+'noSound.mp4', writer=writervideo,dpi = 120)\n",
        "write(fn+'.wav', sr,array(soundTrack))\n",
        "audio = AudioFileClip(fn+'.wav',fps=sr)\n",
        "video = VideoFileClip(fn+'noSound.mp4')\n",
        "final = video.set_audio(audio)\n",
        "# final.ipython_display()\n",
        "final.write_videofile(fn+\"sound.mp4\")"
      ]
    }
  ]
}